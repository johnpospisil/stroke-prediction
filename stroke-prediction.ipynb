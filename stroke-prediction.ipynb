{
 "cells": [
  {
   "cell_type": "markdown",
   "id": "35d57583",
   "metadata": {
    "papermill": {
     "duration": 0.003338,
     "end_time": "2025-01-04T15:14:32.672364",
     "exception": false,
     "start_time": "2025-01-04T15:14:32.669026",
     "status": "completed"
    },
    "tags": []
   },
   "source": [
    "# Stroke Prediction and EDA"
   ]
  },
  {
   "cell_type": "markdown",
   "id": "5567c3d5",
   "metadata": {
    "papermill": {
     "duration": 0.002587,
     "end_time": "2025-01-04T15:14:32.678313",
     "exception": false,
     "start_time": "2025-01-04T15:14:32.675726",
     "status": "completed"
    },
    "tags": []
   },
   "source": [
    "### **Table of Contents**\n",
    "* [<span style=\"color:#A690A4\"> 0. Executive Summary](#exe_sum)\n",
    "* [<span style=\"color:#A690A4\"> 1. Introduction](#intro)\n",
    "* [<span style=\"color:#A690A4\"> 2. Collect, Wrangle & Explore Data](#process)\n",
    "* [<span style=\"color:#A690A4\"> 3. Predict Asking Price](#predict)\n",
    "* [<span style=\"color:#A690A4\"> 4. Conclusion](#conclusion)"
   ]
  },
  {
   "cell_type": "markdown",
   "id": "091624b2",
   "metadata": {
    "papermill": {
     "duration": 0.002324,
     "end_time": "2025-01-04T15:14:32.683541",
     "exception": false,
     "start_time": "2025-01-04T15:14:32.681217",
     "status": "completed"
    },
    "tags": []
   },
   "source": [
    "# <span style=\"color:#5E6997\">Executive Summary</span> <a class=\"anchor\" id=\"exe_sum\"></a>"
   ]
  },
  {
   "cell_type": "markdown",
   "id": "2371891c",
   "metadata": {
    "papermill": {
     "duration": 0.002375,
     "end_time": "2025-01-04T15:14:32.688541",
     "exception": false,
     "start_time": "2025-01-04T15:14:32.686166",
     "status": "completed"
    },
    "tags": []
   },
   "source": [
    "# <span style=\"color:#5E6997\">Introduction</span> <a class=\"anchor\" id=\"intro\"></a>"
   ]
  },
  {
   "cell_type": "markdown",
   "id": "41dd5108",
   "metadata": {
    "papermill": {
     "duration": 0.002374,
     "end_time": "2025-01-04T15:14:32.693491",
     "exception": false,
     "start_time": "2025-01-04T15:14:32.691117",
     "status": "completed"
    },
    "tags": []
   },
   "source": [
    "The dataset contains 12 columns with a mix of numerical and categorical data, and it has some missing values in the bmi column. Here's a summary of key features:\n",
    "\n",
    "### Key Features:\n",
    "**Demographics**:\n",
    "1. gender (categorical): Male, Female, or possibly others.\n",
    "2. age (numerical): Continuous; spans from 0.08 to 82.\n",
    "\n",
    "**Health Metrics:**\n",
    "1. hypertension (binary): 0 (no), 1 (yes).\n",
    "2. heart_disease (binary): 0 (no), 1 (yes).\n",
    "3. avg_glucose_level (numerical): Continuous; ranges from 55.12 to 271.74.\n",
    "4. bmi (numerical): Continuous; has missing values.\n",
    "\n",
    "**Lifestyle and Social Factors:**\n",
    "1. ever_married (categorical): Yes or No.\n",
    "2. work_type (categorical): Includes categories like Private, Self-employed, etc.\n",
    "3. Residence_type (categorical): Urban or Rural.\n",
    "4. smoking_status (categorical): Includes \"formerly smoked,\" \"never smoked,\" \"smokes,\" and possibly unknown.\n",
    "\n",
    "**Target Variable:**\n",
    "- stroke (binary): 0 (no stroke) or 1 (stroke)."
   ]
  },
  {
   "cell_type": "markdown",
   "id": "f601dde9",
   "metadata": {
    "papermill": {
     "duration": 0.002334,
     "end_time": "2025-01-04T15:14:32.698341",
     "exception": false,
     "start_time": "2025-01-04T15:14:32.696007",
     "status": "completed"
    },
    "tags": []
   },
   "source": [
    "# <span style=\"color:#5E6997\">Collect, Wrangle, and Explore Data</span> <a class=\"anchor\" id=\"process\"></a>"
   ]
  },
  {
   "cell_type": "code",
   "execution_count": 1,
   "id": "bb471d29",
   "metadata": {
    "execution": {
     "iopub.execute_input": "2025-01-04T15:14:32.705198Z",
     "iopub.status.busy": "2025-01-04T15:14:32.704812Z",
     "iopub.status.idle": "2025-01-04T15:14:33.136712Z",
     "shell.execute_reply": "2025-01-04T15:14:33.135546Z"
    },
    "papermill": {
     "duration": 0.437882,
     "end_time": "2025-01-04T15:14:33.138843",
     "exception": false,
     "start_time": "2025-01-04T15:14:32.700961",
     "status": "completed"
    },
    "tags": []
   },
   "outputs": [
    {
     "data": {
      "text/html": [
       "<div>\n",
       "<style scoped>\n",
       "    .dataframe tbody tr th:only-of-type {\n",
       "        vertical-align: middle;\n",
       "    }\n",
       "\n",
       "    .dataframe tbody tr th {\n",
       "        vertical-align: top;\n",
       "    }\n",
       "\n",
       "    .dataframe thead th {\n",
       "        text-align: right;\n",
       "    }\n",
       "</style>\n",
       "<table border=\"1\" class=\"dataframe\">\n",
       "  <thead>\n",
       "    <tr style=\"text-align: right;\">\n",
       "      <th></th>\n",
       "      <th>id</th>\n",
       "      <th>gender</th>\n",
       "      <th>age</th>\n",
       "      <th>hypertension</th>\n",
       "      <th>heart_disease</th>\n",
       "      <th>ever_married</th>\n",
       "      <th>work_type</th>\n",
       "      <th>Residence_type</th>\n",
       "      <th>avg_glucose_level</th>\n",
       "      <th>bmi</th>\n",
       "      <th>smoking_status</th>\n",
       "      <th>stroke</th>\n",
       "    </tr>\n",
       "  </thead>\n",
       "  <tbody>\n",
       "    <tr>\n",
       "      <th>0</th>\n",
       "      <td>9046</td>\n",
       "      <td>Male</td>\n",
       "      <td>67.0</td>\n",
       "      <td>0</td>\n",
       "      <td>1</td>\n",
       "      <td>Yes</td>\n",
       "      <td>Private</td>\n",
       "      <td>Urban</td>\n",
       "      <td>228.69</td>\n",
       "      <td>36.6</td>\n",
       "      <td>formerly smoked</td>\n",
       "      <td>1</td>\n",
       "    </tr>\n",
       "    <tr>\n",
       "      <th>1</th>\n",
       "      <td>51676</td>\n",
       "      <td>Female</td>\n",
       "      <td>61.0</td>\n",
       "      <td>0</td>\n",
       "      <td>0</td>\n",
       "      <td>Yes</td>\n",
       "      <td>Self-employed</td>\n",
       "      <td>Rural</td>\n",
       "      <td>202.21</td>\n",
       "      <td>NaN</td>\n",
       "      <td>never smoked</td>\n",
       "      <td>1</td>\n",
       "    </tr>\n",
       "    <tr>\n",
       "      <th>2</th>\n",
       "      <td>31112</td>\n",
       "      <td>Male</td>\n",
       "      <td>80.0</td>\n",
       "      <td>0</td>\n",
       "      <td>1</td>\n",
       "      <td>Yes</td>\n",
       "      <td>Private</td>\n",
       "      <td>Rural</td>\n",
       "      <td>105.92</td>\n",
       "      <td>32.5</td>\n",
       "      <td>never smoked</td>\n",
       "      <td>1</td>\n",
       "    </tr>\n",
       "    <tr>\n",
       "      <th>3</th>\n",
       "      <td>60182</td>\n",
       "      <td>Female</td>\n",
       "      <td>49.0</td>\n",
       "      <td>0</td>\n",
       "      <td>0</td>\n",
       "      <td>Yes</td>\n",
       "      <td>Private</td>\n",
       "      <td>Urban</td>\n",
       "      <td>171.23</td>\n",
       "      <td>34.4</td>\n",
       "      <td>smokes</td>\n",
       "      <td>1</td>\n",
       "    </tr>\n",
       "    <tr>\n",
       "      <th>4</th>\n",
       "      <td>1665</td>\n",
       "      <td>Female</td>\n",
       "      <td>79.0</td>\n",
       "      <td>1</td>\n",
       "      <td>0</td>\n",
       "      <td>Yes</td>\n",
       "      <td>Self-employed</td>\n",
       "      <td>Rural</td>\n",
       "      <td>174.12</td>\n",
       "      <td>24.0</td>\n",
       "      <td>never smoked</td>\n",
       "      <td>1</td>\n",
       "    </tr>\n",
       "  </tbody>\n",
       "</table>\n",
       "</div>"
      ],
      "text/plain": [
       "      id  gender   age  hypertension  heart_disease ever_married  \\\n",
       "0   9046    Male  67.0             0              1          Yes   \n",
       "1  51676  Female  61.0             0              0          Yes   \n",
       "2  31112    Male  80.0             0              1          Yes   \n",
       "3  60182  Female  49.0             0              0          Yes   \n",
       "4   1665  Female  79.0             1              0          Yes   \n",
       "\n",
       "       work_type Residence_type  avg_glucose_level   bmi   smoking_status  \\\n",
       "0        Private          Urban             228.69  36.6  formerly smoked   \n",
       "1  Self-employed          Rural             202.21   NaN     never smoked   \n",
       "2        Private          Rural             105.92  32.5     never smoked   \n",
       "3        Private          Urban             171.23  34.4           smokes   \n",
       "4  Self-employed          Rural             174.12  24.0     never smoked   \n",
       "\n",
       "   stroke  \n",
       "0       1  \n",
       "1       1  \n",
       "2       1  \n",
       "3       1  \n",
       "4       1  "
      ]
     },
     "execution_count": 1,
     "metadata": {},
     "output_type": "execute_result"
    }
   ],
   "source": [
    "import numpy as np \n",
    "import pandas as pd \n",
    "\n",
    "df = pd.read_csv('/kaggle/input/stroke-prediction-dataset/healthcare-dataset-stroke-data.csv')\n",
    "df.head()"
   ]
  },
  {
   "cell_type": "code",
   "execution_count": 2,
   "id": "a95e5572",
   "metadata": {
    "execution": {
     "iopub.execute_input": "2025-01-04T15:14:33.150834Z",
     "iopub.status.busy": "2025-01-04T15:14:33.150398Z",
     "iopub.status.idle": "2025-01-04T15:14:33.175234Z",
     "shell.execute_reply": "2025-01-04T15:14:33.174125Z"
    },
    "papermill": {
     "duration": 0.032686,
     "end_time": "2025-01-04T15:14:33.177076",
     "exception": false,
     "start_time": "2025-01-04T15:14:33.144390",
     "status": "completed"
    },
    "tags": []
   },
   "outputs": [
    {
     "name": "stdout",
     "output_type": "stream",
     "text": [
      "<class 'pandas.core.frame.DataFrame'>\n",
      "RangeIndex: 5110 entries, 0 to 5109\n",
      "Data columns (total 12 columns):\n",
      " #   Column             Non-Null Count  Dtype  \n",
      "---  ------             --------------  -----  \n",
      " 0   id                 5110 non-null   int64  \n",
      " 1   gender             5110 non-null   object \n",
      " 2   age                5110 non-null   float64\n",
      " 3   hypertension       5110 non-null   int64  \n",
      " 4   heart_disease      5110 non-null   int64  \n",
      " 5   ever_married       5110 non-null   object \n",
      " 6   work_type          5110 non-null   object \n",
      " 7   Residence_type     5110 non-null   object \n",
      " 8   avg_glucose_level  5110 non-null   float64\n",
      " 9   bmi                4909 non-null   float64\n",
      " 10  smoking_status     5110 non-null   object \n",
      " 11  stroke             5110 non-null   int64  \n",
      "dtypes: float64(3), int64(4), object(5)\n",
      "memory usage: 479.2+ KB\n"
     ]
    }
   ],
   "source": [
    "df.info()"
   ]
  },
  {
   "cell_type": "code",
   "execution_count": null,
   "id": "7cb9948a",
   "metadata": {
    "papermill": {
     "duration": 0.002742,
     "end_time": "2025-01-04T15:14:33.183037",
     "exception": false,
     "start_time": "2025-01-04T15:14:33.180295",
     "status": "completed"
    },
    "tags": []
   },
   "outputs": [],
   "source": []
  },
  {
   "cell_type": "markdown",
   "id": "9ad5374e",
   "metadata": {
    "papermill": {
     "duration": 0.003284,
     "end_time": "2025-01-04T15:14:33.189355",
     "exception": false,
     "start_time": "2025-01-04T15:14:33.186071",
     "status": "completed"
    },
    "tags": []
   },
   "source": [
    "# <span style=\"color:#5E6997\">Predict Strokes</span> <a class=\"anchor\" id=\"predict\"></a>"
   ]
  },
  {
   "cell_type": "markdown",
   "id": "8ac205ee",
   "metadata": {
    "papermill": {
     "duration": 0.002757,
     "end_time": "2025-01-04T15:14:33.195135",
     "exception": false,
     "start_time": "2025-01-04T15:14:33.192378",
     "status": "completed"
    },
    "tags": []
   },
   "source": [
    "# <span style=\"color:#5E6997\">Conclusion</span> <a class=\"anchor\" id=\"conclusion\"></a>"
   ]
  },
  {
   "cell_type": "code",
   "execution_count": null,
   "id": "c15049dc",
   "metadata": {
    "papermill": {
     "duration": 0.003029,
     "end_time": "2025-01-04T15:14:33.201084",
     "exception": false,
     "start_time": "2025-01-04T15:14:33.198055",
     "status": "completed"
    },
    "tags": []
   },
   "outputs": [],
   "source": []
  }
 ],
 "metadata": {
  "kaggle": {
   "accelerator": "none",
   "dataSources": [
    {
     "datasetId": 1120859,
     "sourceId": 1882037,
     "sourceType": "datasetVersion"
    }
   ],
   "dockerImageVersionId": 30822,
   "isGpuEnabled": false,
   "isInternetEnabled": true,
   "language": "python",
   "sourceType": "notebook"
  },
  "kernelspec": {
   "display_name": "Python 3",
   "language": "python",
   "name": "python3"
  },
  "language_info": {
   "codemirror_mode": {
    "name": "ipython",
    "version": 3
   },
   "file_extension": ".py",
   "mimetype": "text/x-python",
   "name": "python",
   "nbconvert_exporter": "python",
   "pygments_lexer": "ipython3",
   "version": "3.10.12"
  },
  "papermill": {
   "default_parameters": {},
   "duration": 3.303348,
   "end_time": "2025-01-04T15:14:33.726107",
   "environment_variables": {},
   "exception": null,
   "input_path": "__notebook__.ipynb",
   "output_path": "__notebook__.ipynb",
   "parameters": {},
   "start_time": "2025-01-04T15:14:30.422759",
   "version": "2.6.0"
  }
 },
 "nbformat": 4,
 "nbformat_minor": 5
}
